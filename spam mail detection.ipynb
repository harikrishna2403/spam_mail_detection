{
 "cells": [
  {
   "cell_type": "code",
   "execution_count": null,
   "id": "61244714",
   "metadata": {},
   "outputs": [],
   "source": [
    "import pandas as pd\n",
    "from sklearn.feature_extraction.text import CountVectorizer\n",
    "from sklearn.naive_bayes import MultinomialNB\n",
    "import matplotlib.pyplot as plt\n",
    "import seaborn as sns\n",
    "import gradio as gr"
   ]
  },
  {
   "cell_type": "code",
   "execution_count": null,
   "id": "e8993e60",
   "metadata": {},
   "outputs": [],
   "source": [
    "ds = pd.read_csv('spam_ham_dataset.csv')\n",
    "ds"
   ]
  },
  {
   "cell_type": "code",
   "execution_count": null,
   "id": "5afea1cf",
   "metadata": {},
   "outputs": [],
   "source": [
    "def data_set():\n",
    "    spam_df  = pd.read_csv('spam_ham_dataset.csv')\n",
    "    return spam_df.drop('Unnamed: 0',axis=1)"
   ]
  },
  {
   "cell_type": "code",
   "execution_count": null,
   "id": "30d0727c",
   "metadata": {},
   "outputs": [],
   "source": [
    "data = data_set()\n",
    "data"
   ]
  },
  {
   "cell_type": "code",
   "execution_count": null,
   "id": "7f4b8727",
   "metadata": {},
   "outputs": [],
   "source": [
    "data.shape"
   ]
  },
  {
   "cell_type": "code",
   "execution_count": null,
   "id": "9f9bc23e",
   "metadata": {},
   "outputs": [],
   "source": [
    "data.head()"
   ]
  },
  {
   "cell_type": "code",
   "execution_count": null,
   "id": "71a5accd",
   "metadata": {},
   "outputs": [],
   "source": [
    "data.tail()"
   ]
  },
  {
   "cell_type": "code",
   "execution_count": null,
   "id": "c9e6a995",
   "metadata": {},
   "outputs": [],
   "source": [
    "data.info()"
   ]
  },
  {
   "cell_type": "code",
   "execution_count": null,
   "id": "1db24b23",
   "metadata": {},
   "outputs": [],
   "source": [
    "data.describe()"
   ]
  },
  {
   "cell_type": "code",
   "execution_count": null,
   "id": "ad9366cb",
   "metadata": {},
   "outputs": [],
   "source": [
    "plt.hist(data['label'])\n",
    "plt.show()"
   ]
  },
  {
   "cell_type": "code",
   "execution_count": null,
   "id": "b431654f",
   "metadata": {},
   "outputs": [],
   "source": [
    "from sklearn.feature_extraction.text import CountVectorizer\n",
    "vectorizer=CountVectorizer()\n",
    "spamham_countVectorizer=vectorizer.fit_transform(data['text'])"
   ]
  },
  {
   "cell_type": "code",
   "execution_count": null,
   "id": "2dd1c37b",
   "metadata": {},
   "outputs": [],
   "source": [
    "label=data['label_num']\n",
    "X=spamham_countVectorizer\n",
    "y=label"
   ]
  },
  {
   "cell_type": "code",
   "execution_count": null,
   "id": "04f5c9d9",
   "metadata": {},
   "outputs": [],
   "source": [
    "from sklearn.model_selection import train_test_split,cross_val_score\n",
    "from sklearn.metrics import classification_report,confusion_matrix,accuracy_score\n",
    "X_train,X_test,Y_train,Y_test=train_test_split(X,y,test_size=0.2)"
   ]
  },
  {
   "cell_type": "code",
   "execution_count": null,
   "id": "c678a515",
   "metadata": {},
   "outputs": [],
   "source": [
    "#Naive Bayes\n",
    "\n",
    "NB_classifier=MultinomialNB()\n",
    "NB_classifier.fit(X,y)\n",
    "Y_pred=NB_classifier.predict(X_test)\n",
    "cm=confusion_matrix(Y_test,Y_pred)\n",
    "print(classification_report(Y_test,Y_pred))\n",
    "print(\"The Accuracy is\",accuracy_score(Y_test,Y_pred))\n",
    "sns.heatmap(cm,annot=True)"
   ]
  },
  {
   "cell_type": "code",
   "execution_count": null,
   "id": "e873ce37",
   "metadata": {},
   "outputs": [],
   "source": [
    "from sklearn.linear_model import LogisticRegression\n",
    "from sklearn.metrics import accuracy_score\n",
    "lr=LogisticRegression(C=10.0)\n",
    "lr.fit(X_train,Y_train)\n",
    "Y_pred=lr.predict(X_test)\n",
    "confusion_matrix(Y_test,Y_pred)\n",
    "print(classification_report(Y_test,Y_pred))\n",
    "print(\"The Accuracy is \",accuracy_score(Y_test,Y_pred))\n",
    "sns.heatmap(confusion_matrix(Y_test,Y_pred),annot=True)"
   ]
  },
  {
   "cell_type": "code",
   "execution_count": null,
   "id": "6a85b814",
   "metadata": {
    "scrolled": true
   },
   "outputs": [],
   "source": [
    "from sklearn.tree import DecisionTreeClassifier\n",
    "from sklearn import tree\n",
    "dt=DecisionTreeClassifier(max_depth=5)\n",
    "dt.fit(X_train,Y_train)\n",
    "Y_pred=dt.predict(X_test)\n",
    "print(classification_report(Y_test,Y_pred))\n",
    "dtc=DecisionTreeClassifier(max_depth=3)\n",
    "dtc.fit(X_train,Y_train)\n",
    "plt.figure(figsize=(20,20))\n",
    "tree.plot_tree(dt)\n",
    "plt.show()\n",
    "print(\"The Accuracy is\",accuracy_score(Y_test,Y_pred))"
   ]
  },
  {
   "cell_type": "code",
   "execution_count": null,
   "id": "71a50d05",
   "metadata": {},
   "outputs": [],
   "source": [
    "from sklearn.neighbors import KNeighborsClassifier\n",
    "neigh = KNeighborsClassifier(n_neighbors=3)\n",
    "neigh.fit(X_train, Y_train)\n",
    "Y_pred=neigh.predict(X_test)\n",
    "print(classification_report(Y_test,Y_pred))\n",
    "print(\"The Accuracy is\",accuracy_score(Y_test,Y_pred))\n",
    "sns.heatmap(confusion_matrix(Y_test,Y_pred),annot = True)"
   ]
  },
  {
   "cell_type": "code",
   "execution_count": null,
   "id": "529d87c4",
   "metadata": {},
   "outputs": [],
   "source": [
    "from sklearn import svm\n",
    "model=svm.SVC(kernel='linear')\n",
    "model.fit(X_train,Y_train)\n",
    "Y_pred=model.predict(X_test)\n",
    "print(classification_report(Y_test,Y_pred))\n",
    "print(\"The Accuracy is\",accuracy_score(Y_test,Y_pred))\n",
    "sns.heatmap(confusion_matrix(Y_test,Y_pred),annot = True)"
   ]
  },
  {
   "cell_type": "code",
   "execution_count": null,
   "id": "5f473170",
   "metadata": {},
   "outputs": [],
   "source": [
    "from sklearn.ensemble import RandomForestClassifier\n",
    "rf=RandomForestClassifier(n_estimators=500,min_samples_split=2,max_depth=10,max_features=7)\n",
    "rf=rf.fit(X_train,Y_train)\n",
    "cross_val_score(rf,X_train,Y_train,cv=10).mean()\n",
    "print(\"The Accuracy Score is\",accuracy_score(Y_test,Y_pred))\n",
    "sns.heatmap(confusion_matrix(Y_test,Y_pred),annot = True)"
   ]
  },
  {
   "cell_type": "code",
   "execution_count": null,
   "id": "ab045680",
   "metadata": {},
   "outputs": [],
   "source": [
    "def check(text):\n",
    "    a= []\n",
    "    df =data_set() \n",
    "    X = df['text']\n",
    "    y = df['label_num']\n",
    "    vectorizer=CountVectorizer()\n",
    "    X = vectorizer.fit_transform(X)\n",
    "    new_email_features = vectorizer.transform([text])\n",
    "    \n",
    "    model = MultinomialNB()\n",
    "    model.fit(X, y)\n",
    "    prediction = model.predict(new_email_features)\n",
    "    a.append(prediction[0])\n",
    "    \n",
    "    dt=DecisionTreeClassifier(max_depth=5)\n",
    "    dt.fit(X,y)\n",
    "    prediction = dt.predict(new_email_features)\n",
    "    a.append(prediction[0])\n",
    "    \n",
    "    lr=LogisticRegression(C=10.0)\n",
    "    lr.fit(X,y)\n",
    "    prediction = lr.predict(new_email_features)\n",
    "    a.append(prediction[0])\n",
    "    \n",
    "    neigh = KNeighborsClassifier(n_neighbors=3)\n",
    "    neigh.fit(X,y)\n",
    "    prediction = neigh.predict(new_email_features)\n",
    "    a.append(prediction[0])\n",
    "    \n",
    "    model=svm.SVC(kernel='linear')\n",
    "    model.fit(X,y)\n",
    "    prediction=model.predict(new_email_features)\n",
    "    a.append(prediction[0])\n",
    "    \n",
    "    \n",
    "    if a.count(0) < a.count(1):\n",
    "        return \"The email is spam!\"\n",
    "    else:\n",
    "        return \"The email is not spam.\" "
   ]
  },
  {
   "cell_type": "code",
   "execution_count": null,
   "id": "b5b92aa7",
   "metadata": {
    "scrolled": true
   },
   "outputs": [],
   "source": [
    "app1 = gr.Interface(fn=data_set,inputs=None, outputs=gr.Dataframe(),description=\"Reading csv\")\n",
    "app3 = gr.Interface(fn=check, inputs='text', outputs='text',description=\" result\")\n",
    "demo = gr.TabbedInterface([app1, app3], [\"Reading_csv\", \"result\"])\n",
    "demo.launch()"
   ]
  },
  {
   "cell_type": "code",
   "execution_count": null,
   "id": "f3e158c7",
   "metadata": {},
   "outputs": [],
   "source": [
    "#Without GUI"
   ]
  },
  {
   "cell_type": "code",
   "execution_count": null,
   "id": "22fe96b1",
   "metadata": {},
   "outputs": [],
   "source": [
    "text = input(\"Enter the Mail :\")\n",
    "a= []\n",
    "df =data_set() \n",
    "X = df['text']\n",
    "y = df['label_num']\n",
    "vectorizer=CountVectorizer()\n",
    "X = vectorizer.fit_transform(X)\n",
    "new_email_features = vectorizer.transform([text])\n",
    "\n",
    "model = MultinomialNB()\n",
    "model.fit(X, y)\n",
    "prediction = model.predict(new_email_features)\n",
    "a.append(prediction[0])\n",
    "print(\"The Predction of NB is \",prediction[0])\n",
    "\n",
    "dt=DecisionTreeClassifier(max_depth=5)\n",
    "dt.fit(X,y)\n",
    "prediction = dt.predict(new_email_features)\n",
    "a.append(prediction[0])\n",
    "print(\"The Predction of DTree is \",prediction[0])\n",
    "\n",
    "\n",
    "lr=LogisticRegression(C=10.0)\n",
    "lr.fit(X,y)\n",
    "prediction = lr.predict(new_email_features)\n",
    "a.append(prediction[0])\n",
    "print(\"The Predction of LR is \",prediction[0])\n",
    "\n",
    "\n",
    "neigh = KNeighborsClassifier(n_neighbors=3)\n",
    "neigh.fit(X,y)\n",
    "prediction = neigh.predict(new_email_features)\n",
    "a.append(prediction[0])\n",
    "print(\"The Predction of Knn is \",prediction[0])\n",
    "\n",
    "\n",
    "model=svm.SVC(kernel='linear')\n",
    "model.fit(X,y)\n",
    "prediction=model.predict(new_email_features)\n",
    "a.append(prediction[0])\n",
    "print(\"The Predction of svm is \",prediction[0])\n",
    "print(prediction)\n",
    "\n",
    "if a.count(0) < a.count(1):\n",
    "    print(\"The email is spam!\")\n",
    "else:\n",
    "    print(\"The email is not spam.\" )"
   ]
  },
  {
   "cell_type": "code",
   "execution_count": null,
   "id": "ba8ae4b7",
   "metadata": {},
   "outputs": [],
   "source": []
  }
 ],
 "metadata": {
  "kernelspec": {
   "display_name": "Python 3 (ipykernel)",
   "language": "python",
   "name": "python3"
  },
  "language_info": {
   "codemirror_mode": {
    "name": "ipython",
    "version": 3
   },
   "file_extension": ".py",
   "mimetype": "text/x-python",
   "name": "python",
   "nbconvert_exporter": "python",
   "pygments_lexer": "ipython3",
   "version": "3.11.3"
  }
 },
 "nbformat": 4,
 "nbformat_minor": 5
}
